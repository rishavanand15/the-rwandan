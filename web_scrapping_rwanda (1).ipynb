{
 "cells": [
  {
   "cell_type": "markdown",
   "metadata": {},
   "source": [
    "Rwanda_web_scrapping for finding sentiments"
   ]
  },
  {
   "cell_type": "code",
   "execution_count": 5,
   "metadata": {},
   "outputs": [],
   "source": [
    "import requests\n",
    "from lxml import html"
   ]
  },
  {
   "cell_type": "code",
   "execution_count": 6,
   "metadata": {},
   "outputs": [],
   "source": [
    "d=str(input('enter keyword:'))#enter the keyword to search for\n",
    "url='http://www.therwandan.com'+'/?s='+d\n",
    "#print(url)\n",
    "href=[]\n",
    "request=requests.get(url)#to get access\n",
    "status=request.status_code"
   ]
  },
  {
   "cell_type": "code",
   "execution_count": null,
   "metadata": {},
   "outputs": [],
   "source": [
    "if (status==200):\n",
    "    content=request.content\n",
    "    a=html.fromstring(content)\n",
    "    s=a.xpath(\"//div[@class='td-ss-main-content']/div[@class='td_module_11 td_module_wrap td-animation-stack']\")\n",
    "    for each_rows in s:\n",
    "        text=each_rows.xpath(\".//div[@class='item-details']/h3[@class='entry-title td-module-title']/a/text()\")\n",
    "        date=each_rows.xpath(\".//div[@class='item-details']/div[@class='td-module-meta-info']/span[@class='td-post-date']/time[@class='entry-date updated td-module-date']/text()\")\n",
    "        #print(text,date)\n",
    "        text=each_rows.xpath(\".//div[@class='item-details']/h3[@class='entry-title td-module-title']/a/@href\")\n",
    "        href.append(text)\n",
    "    for i in href:\n",
    "        request1=requests.get(i[0])\n",
    "        status=request1.status_code\n",
    "        content1=request1.content\n",
    "        b=html.fromstring(content1)\n",
    "        heading=b.xpath(\".//div[@class='td-pb-span8 td-main-content']/div[@class='td-ss-main-content']/article/div[@class='td-post-header']/header/h1[@class='entry-title']/text()\")\n",
    "        date=b.xpath(\".//div[@class='td-pb-span8 td-main-content']/div[@class='td-ss-main-content']/article/div[@class='td-post-header']/header/div[@class='td-module-meta-info']/span[@class='td-post-date']/time/text()\")\n",
    "        block=b.xpath(\".//div[@class='td-pb-span8 td-main-content']/div[@class='td-ss-main-content']/article/div[@class='td-post-content']/blockquote[@class='graf graf--pullquote graf--startsWithDoubleQuote graf-after--p']/p/text()\")\n",
    "        '''d=b.xpath(\".//div[@class='td-pb-span8 td-main-content']/div[@class='td-ss-main-content']/article/div[@class='td-post-content']/p/text()\")\n",
    "        e=b.xpath(\".//div[@class='td-pb-span8 td-main-content']/div[@class='td-ss-main-content']/article/div[@class='td-post-content']/p/strong/text()\")\n",
    "        f=b.xpath(\".//div[@class='td-pb-span8 td-main-content']/div[@class='td-ss-main-content']/article/div[@class='td-post-content']/ol/li/text()\")\n",
    "        g=b.xpath(\".//div[@class='td-pb-span8 td-main-content']/div[@class='td-ss-main-content']/article/div[@class='td-post-content']/p/span/text()\")\n",
    "        print(heading,date,block,d,e,f,g)\n",
    "        print('------------------')'''\n",
    "        full_story=b.xpath(\".//div[@class='td-pb-span8 td-main-content']/div[@class='td-ss-main-content']/article/div[@class='td-post-content']/descendant::p/text()\")\n",
    "        print(full_story,'ssssssssssssss')   \n",
    "else:\n",
    "    print('check the server')"
   ]
  }
 ],
 "metadata": {
  "kernelspec": {
   "display_name": "Python 3",
   "language": "python",
   "name": "python3"
  },
  "language_info": {
   "codemirror_mode": {
    "name": "ipython",
    "version": 3
   },
   "file_extension": ".py",
   "mimetype": "text/x-python",
   "name": "python",
   "nbconvert_exporter": "python",
   "pygments_lexer": "ipython3",
   "version": "3.5.2"
  }
 },
 "nbformat": 4,
 "nbformat_minor": 2
}
